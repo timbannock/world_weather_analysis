{
 "cells": [
  {
   "cell_type": "code",
   "execution_count": 1,
   "metadata": {},
   "outputs": [],
   "source": [
    "# Create a new set of 2,000 random latitudes and longitudes - DONE\n",
    "# Get the nearest city using the citipy module. - DONE\n",
    "# Perform an API call with the OpenWeatherMap and retrieve the following information from the API call: - NOT WORKING\n",
    "    # Latitude and longitude\n",
    "    # Maximum temperature\n",
    "    # Percent humidity\n",
    "    # Percent cloudiness\n",
    "    # Wind speed\n",
    "    # Weather description (for example, clouds, fog, light rain, clear sky)\n",
    "# Add the data to a new DataFrame. !SEE EXAMPLE IMAGE\n",
    "# Export the DataFrame as a CSV file, and save it as WeatherPy_Database.csv in the Weather_Database folder."
   ]
  },
  {
   "cell_type": "code",
   "execution_count": 2,
   "metadata": {},
   "outputs": [],
   "source": [
    "# Import dependencies\n",
    "import pandas as pd\n",
    "import matplotlib.pyplot as plt\n",
    "import numpy as np\n",
    "import requests\n",
    "from citipy import citipy\n",
    "# from datetime import datetime\n",
    "# import gmaps\n",
    "\n",
    "# Import linear regression from the SciPy stats module.\n",
    "# from scipy.stats import linregress\n",
    "\n",
    "# Import the API key.\n",
    "from config import weather_api_key\n",
    "# from config import g_key"
   ]
  },
  {
   "cell_type": "code",
   "execution_count": 3,
   "metadata": {},
   "outputs": [
    {
     "data": {
      "text/plain": [
       "<zip at 0xbc3bec8>"
      ]
     },
     "execution_count": 3,
     "metadata": {},
     "output_type": "execute_result"
    }
   ],
   "source": [
    "# Create a set of random latitude and longitude combinations.\n",
    "lats = np.random.uniform(low=-90.000, high=90.000, size=2000)\n",
    "lngs = np.random.uniform(low=-180.000, high=180.000, size=2000)\n",
    "lat_lngs = zip(lats, lngs)\n",
    "lat_lngs"
   ]
  },
  {
   "cell_type": "code",
   "execution_count": 4,
   "metadata": {},
   "outputs": [],
   "source": [
    "# Add the latitudes and longitudes to a list.\n",
    "coordinates = list(lat_lngs)"
   ]
  },
  {
   "cell_type": "code",
   "execution_count": 5,
   "metadata": {},
   "outputs": [
    {
     "data": {
      "text/plain": [
       "780"
      ]
     },
     "execution_count": 5,
     "metadata": {},
     "output_type": "execute_result"
    }
   ],
   "source": [
    "# Create a list for holding the cities.\n",
    "cities = []\n",
    "# Identify the nearest city for each latitude and longitude combination.\n",
    "for coordinate in coordinates:\n",
    "    city = citipy.nearest_city(coordinate[0], coordinate[1]).city_name\n",
    "\n",
    "    # If the city is unique, then we will add it to the cities list.\n",
    "    if city not in cities:\n",
    "        cities.append(city)\n",
    "# Print the city count to confirm sufficient count.\n",
    "len(cities)"
   ]
  },
  {
   "cell_type": "code",
   "execution_count": 6,
   "metadata": {},
   "outputs": [
    {
     "name": "stdout",
     "output_type": "stream",
     "text": [
      "https://api.openweathermap.org/data/2.5/weather?units=Imperial&APPID=df3907b42351ebe6ece6d5e6897c13ed\n"
     ]
    }
   ],
   "source": [
    "# Starting URL for Weather API call.\n",
    "url = \"https://api.openweathermap.org/data/2.5/weather?units=Imperial&APPID=\" + weather_api_key\n",
    "print(url)"
   ]
  },
  {
   "cell_type": "code",
   "execution_count": 7,
   "metadata": {},
   "outputs": [
    {
     "data": {
      "text/plain": [
       "{'coord': {'lon': -122.68, 'lat': 45.52},\n",
       " 'weather': [{'id': 801,\n",
       "   'main': 'Clouds',\n",
       "   'description': 'few clouds',\n",
       "   'icon': '02d'}],\n",
       " 'base': 'stations',\n",
       " 'main': {'temp': 77.4,\n",
       "  'feels_like': 72.77,\n",
       "  'temp_min': 75,\n",
       "  'temp_max': 80.01,\n",
       "  'pressure': 1016,\n",
       "  'humidity': 44},\n",
       " 'visibility': 10000,\n",
       " 'wind': {'speed': 10.29, 'deg': 330, 'gust': 19.46},\n",
       " 'clouds': {'all': 20},\n",
       " 'dt': 1598139187,\n",
       " 'sys': {'type': 1,\n",
       "  'id': 5321,\n",
       "  'country': 'US',\n",
       "  'sunrise': 1598102448,\n",
       "  'sunset': 1598151988},\n",
       " 'timezone': -25200,\n",
       " 'id': 5746545,\n",
       " 'name': 'Portland',\n",
       " 'cod': 200}"
      ]
     },
     "execution_count": 7,
     "metadata": {},
     "output_type": "execute_result"
    }
   ],
   "source": [
    "# Create an endpoint URL for a city.\n",
    "city_url = url + \"&q=\" + \"Portland\"\n",
    "city_weather = requests.get(city_url)\n",
    "city_weather.json()"
   ]
  },
  {
   "cell_type": "code",
   "execution_count": 8,
   "metadata": {},
   "outputs": [],
   "source": [
    "import traceback"
   ]
  },
  {
   "cell_type": "code",
   "execution_count": 9,
   "metadata": {},
   "outputs": [
    {
     "name": "stdout",
     "output_type": "stream",
     "text": [
      "Beginning Data Retrieval     \n",
      "-----------------------------\n",
      "Processing Record 1 of Set 1 | wladyslawowo\n",
      "Processing Record 2 of Set 1 | northam\n",
      "Processing Record 3 of Set 1 | chuy\n",
      "Processing Record 4 of Set 1 | lodwar\n",
      "Processing Record 5 of Set 1 | dwarka\n",
      "Processing Record 6 of Set 1 | punta arenas\n",
      "Processing Record 7 of Set 1 | sentyabrskiy\n"
     ]
    },
    {
     "name": "stderr",
     "output_type": "stream",
     "text": [
      "Traceback (most recent call last):\n",
      "  File \"<ipython-input-9-ed51c550d7dc>\", line 31, in <module>\n",
      "    city_lat = city_weather[\"coord\"][\"lat\"]\n",
      "KeyError: 'coord'\n"
     ]
    },
    {
     "name": "stdout",
     "output_type": "stream",
     "text": [
      "Processing Record 8 of Set 1 | maragogi\n",
      "Processing Record 9 of Set 1 | norman wells\n",
      "Processing Record 10 of Set 1 | pemangkat\n",
      "Processing Record 11 of Set 1 | busselton\n",
      "Processing Record 12 of Set 1 | prince rupert\n",
      "Processing Record 13 of Set 1 | ponta do sol\n",
      "Processing Record 14 of Set 1 | mys shmidta\n"
     ]
    },
    {
     "name": "stderr",
     "output_type": "stream",
     "text": [
      "Traceback (most recent call last):\n",
      "  File \"<ipython-input-9-ed51c550d7dc>\", line 31, in <module>\n",
      "    city_lat = city_weather[\"coord\"][\"lat\"]\n",
      "KeyError: 'coord'\n"
     ]
    },
    {
     "name": "stdout",
     "output_type": "stream",
     "text": [
      "Processing Record 15 of Set 1 | east london\n",
      "Processing Record 16 of Set 1 | rikitea\n",
      "Processing Record 17 of Set 1 | hobart\n",
      "Processing Record 18 of Set 1 | hermanus\n",
      "Processing Record 19 of Set 1 | ostrogozhsk\n",
      "Processing Record 20 of Set 1 | saint george\n",
      "Processing Record 21 of Set 1 | port alfred\n",
      "Processing Record 22 of Set 1 | qaanaaq\n",
      "Processing Record 23 of Set 1 | srednekolymsk\n",
      "Processing Record 24 of Set 1 | batemans bay\n",
      "Processing Record 25 of Set 1 | belushya guba\n"
     ]
    },
    {
     "name": "stderr",
     "output_type": "stream",
     "text": [
      "Traceback (most recent call last):\n",
      "  File \"<ipython-input-9-ed51c550d7dc>\", line 31, in <module>\n",
      "    city_lat = city_weather[\"coord\"][\"lat\"]\n",
      "KeyError: 'coord'\n"
     ]
    },
    {
     "name": "stdout",
     "output_type": "stream",
     "text": [
      "Processing Record 26 of Set 1 | shakawe\n",
      "Processing Record 27 of Set 1 | parkent\n",
      "Processing Record 28 of Set 1 | tarija\n",
      "Processing Record 29 of Set 1 | albany\n",
      "Processing Record 30 of Set 1 | bethel\n",
      "Processing Record 31 of Set 1 | waingapu\n",
      "Processing Record 32 of Set 1 | tuktoyaktuk\n",
      "Processing Record 33 of Set 1 | dalvik\n",
      "Processing Record 34 of Set 1 | alberdi\n",
      "Processing Record 35 of Set 1 | huambo\n",
      "Processing Record 36 of Set 1 | sitka\n",
      "Processing Record 37 of Set 1 | coolum beach\n",
      "Processing Record 38 of Set 1 | severnyy\n",
      "Processing Record 39 of Set 1 | vaini\n",
      "Processing Record 40 of Set 1 | barentsburg\n"
     ]
    },
    {
     "name": "stderr",
     "output_type": "stream",
     "text": [
      "Traceback (most recent call last):\n",
      "  File \"<ipython-input-9-ed51c550d7dc>\", line 31, in <module>\n",
      "    city_lat = city_weather[\"coord\"][\"lat\"]\n",
      "KeyError: 'coord'\n"
     ]
    },
    {
     "name": "stdout",
     "output_type": "stream",
     "text": [
      "Processing Record 41 of Set 1 | mataura\n",
      "Processing Record 42 of Set 1 | new norfolk\n",
      "Processing Record 43 of Set 1 | tucuma\n",
      "Processing Record 44 of Set 1 | swan hill\n",
      "Processing Record 45 of Set 1 | cockburn town\n",
      "Processing Record 46 of Set 1 | kailua\n",
      "Processing Record 47 of Set 1 | bolshaya dzhalga\n",
      "Processing Record 48 of Set 1 | klaksvik\n",
      "Processing Record 49 of Set 1 | butaritari\n",
      "Processing Record 50 of Set 1 | kulhudhuffushi\n",
      "Processing Record 1 of Set 2 | sept-iles\n",
      "Processing Record 2 of Set 2 | kalmunai\n",
      "Processing Record 3 of Set 2 | atuona\n",
      "Processing Record 4 of Set 2 | ushuaia\n",
      "Processing Record 5 of Set 2 | kapaa\n",
      "Processing Record 6 of Set 2 | yellowknife\n",
      "Processing Record 7 of Set 2 | la chapelle-sur-erdre\n",
      "Processing Record 8 of Set 2 | nome\n",
      "Processing Record 9 of Set 2 | barrow\n",
      "Processing Record 10 of Set 2 | nanakuli\n",
      "Processing Record 11 of Set 2 | muyezerskiy\n",
      "Processing Record 12 of Set 2 | umm kaddadah\n",
      "Processing Record 13 of Set 2 | carnarvon\n",
      "Processing Record 14 of Set 2 | bredasdorp\n",
      "Processing Record 15 of Set 2 | labytnangi\n",
      "Processing Record 16 of Set 2 | karaton\n",
      "Processing Record 17 of Set 2 | longyearbyen\n",
      "Processing Record 18 of Set 2 | coruripe\n",
      "Processing Record 19 of Set 2 | katsuura\n",
      "Processing Record 20 of Set 2 | hervey bay\n",
      "Processing Record 21 of Set 2 | raudeberg\n",
      "Processing Record 22 of Set 2 | mandera\n",
      "Processing Record 23 of Set 2 | avarua\n",
      "Processing Record 24 of Set 2 | fortuna\n",
      "Processing Record 25 of Set 2 | jiexiu\n",
      "Processing Record 26 of Set 2 | hithadhoo\n",
      "Processing Record 27 of Set 2 | paradwip\n"
     ]
    },
    {
     "name": "stderr",
     "output_type": "stream",
     "text": [
      "Traceback (most recent call last):\n",
      "  File \"<ipython-input-9-ed51c550d7dc>\", line 31, in <module>\n",
      "    city_lat = city_weather[\"coord\"][\"lat\"]\n",
      "KeyError: 'coord'\n"
     ]
    },
    {
     "name": "stdout",
     "output_type": "stream",
     "text": [
      "Processing Record 28 of Set 2 | puerto ayora\n",
      "Processing Record 29 of Set 2 | tiksi\n",
      "Processing Record 30 of Set 2 | nakanojo\n",
      "Processing Record 31 of Set 2 | taolanaro\n"
     ]
    },
    {
     "name": "stderr",
     "output_type": "stream",
     "text": [
      "Traceback (most recent call last):\n",
      "  File \"<ipython-input-9-ed51c550d7dc>\", line 31, in <module>\n",
      "    city_lat = city_weather[\"coord\"][\"lat\"]\n",
      "KeyError: 'coord'\n"
     ]
    },
    {
     "name": "stdout",
     "output_type": "stream",
     "text": [
      "Processing Record 32 of Set 2 | ancud\n",
      "Processing Record 33 of Set 2 | dikson\n",
      "Processing Record 34 of Set 2 | kudahuvadhoo\n",
      "Processing Record 35 of Set 2 | weymouth\n",
      "Processing Record 36 of Set 2 | andra\n",
      "Processing Record 37 of Set 2 | mahebourg\n",
      "Processing Record 38 of Set 2 | robertsport\n",
      "Processing Record 39 of Set 2 | salamiyah\n",
      "Processing Record 40 of Set 2 | lavrentiya\n",
      "Processing Record 41 of Set 2 | borlange\n"
     ]
    },
    {
     "name": "stderr",
     "output_type": "stream",
     "text": [
      "Traceback (most recent call last):\n",
      "  File \"<ipython-input-9-ed51c550d7dc>\", line 31, in <module>\n",
      "    city_lat = city_weather[\"coord\"][\"lat\"]\n",
      "KeyError: 'coord'\n"
     ]
    },
    {
     "name": "stdout",
     "output_type": "stream",
     "text": [
      "Processing Record 42 of Set 2 | cape town\n",
      "Processing Record 43 of Set 2 | morondava\n",
      "Processing Record 44 of Set 2 | punto fijo\n",
      "Processing Record 45 of Set 2 | harper\n",
      "Processing Record 46 of Set 2 | tutayev\n",
      "Processing Record 47 of Set 2 | illoqqortoormiut\n"
     ]
    },
    {
     "name": "stderr",
     "output_type": "stream",
     "text": [
      "Traceback (most recent call last):\n",
      "  File \"<ipython-input-9-ed51c550d7dc>\", line 31, in <module>\n",
      "    city_lat = city_weather[\"coord\"][\"lat\"]\n",
      "KeyError: 'coord'\n"
     ]
    },
    {
     "name": "stdout",
     "output_type": "stream",
     "text": [
      "Processing Record 48 of Set 2 | svetlogorsk\n",
      "Processing Record 49 of Set 2 | provideniya\n",
      "Processing Record 50 of Set 2 | kundiawa\n",
      "Processing Record 1 of Set 3 | puerto escondido\n",
      "Processing Record 2 of Set 3 | lumeje\n",
      "Processing Record 3 of Set 3 | kamaishi\n",
      "Processing Record 4 of Set 3 | cherskiy\n",
      "Processing Record 5 of Set 3 | tripoli\n",
      "Processing Record 6 of Set 3 | tenenkou\n",
      "Processing Record 7 of Set 3 | castro\n",
      "Processing Record 8 of Set 3 | mouila\n",
      "Processing Record 9 of Set 3 | saint anthony\n",
      "Processing Record 10 of Set 3 | linqiong\n",
      "Processing Record 11 of Set 3 | nikolskoye\n",
      "Processing Record 12 of Set 3 | lunino\n",
      "Processing Record 13 of Set 3 | kota kinabalu\n",
      "Processing Record 14 of Set 3 | shimoda\n",
      "Processing Record 15 of Set 3 | upernavik\n",
      "Processing Record 16 of Set 3 | narsaq\n",
      "Processing Record 17 of Set 3 | omboue\n",
      "Processing Record 18 of Set 3 | saleaula\n"
     ]
    },
    {
     "name": "stderr",
     "output_type": "stream",
     "text": [
      "Traceback (most recent call last):\n",
      "  File \"<ipython-input-9-ed51c550d7dc>\", line 31, in <module>\n",
      "    city_lat = city_weather[\"coord\"][\"lat\"]\n",
      "KeyError: 'coord'\n"
     ]
    },
    {
     "name": "stdout",
     "output_type": "stream",
     "text": [
      "Processing Record 19 of Set 3 | bluff\n",
      "Processing Record 20 of Set 3 | teguldet\n",
      "Processing Record 21 of Set 3 | vaitupu\n"
     ]
    },
    {
     "name": "stderr",
     "output_type": "stream",
     "text": [
      "Traceback (most recent call last):\n",
      "  File \"<ipython-input-9-ed51c550d7dc>\", line 31, in <module>\n",
      "    city_lat = city_weather[\"coord\"][\"lat\"]\n",
      "KeyError: 'coord'\n"
     ]
    },
    {
     "name": "stdout",
     "output_type": "stream",
     "text": [
      "Processing Record 22 of Set 3 | isangel\n",
      "Processing Record 23 of Set 3 | cacu\n",
      "Processing Record 24 of Set 3 | bengkulu\n",
      "Processing Record 25 of Set 3 | amderma\n"
     ]
    },
    {
     "name": "stderr",
     "output_type": "stream",
     "text": [
      "Traceback (most recent call last):\n",
      "  File \"<ipython-input-9-ed51c550d7dc>\", line 31, in <module>\n",
      "    city_lat = city_weather[\"coord\"][\"lat\"]\n",
      "KeyError: 'coord'\n"
     ]
    },
    {
     "name": "stdout",
     "output_type": "stream",
     "text": [
      "Processing Record 26 of Set 3 | mar del plata\n",
      "Processing Record 27 of Set 3 | vila do maio\n",
      "Processing Record 28 of Set 3 | muros\n",
      "Processing Record 29 of Set 3 | tanout\n",
      "Processing Record 30 of Set 3 | union\n",
      "Processing Record 31 of Set 3 | olafsvik\n",
      "Processing Record 32 of Set 3 | poso\n",
      "Processing Record 33 of Set 3 | saskylakh\n",
      "Processing Record 34 of Set 3 | ha noi\n",
      "Processing Record 35 of Set 3 | sikonge\n",
      "Processing Record 36 of Set 3 | qaqortoq\n",
      "Processing Record 37 of Set 3 | pakdasht\n",
      "Processing Record 38 of Set 3 | lolua\n"
     ]
    },
    {
     "name": "stderr",
     "output_type": "stream",
     "text": [
      "Traceback (most recent call last):\n",
      "  File \"<ipython-input-9-ed51c550d7dc>\", line 31, in <module>\n",
      "    city_lat = city_weather[\"coord\"][\"lat\"]\n",
      "KeyError: 'coord'\n"
     ]
    },
    {
     "name": "stdout",
     "output_type": "stream",
     "text": [
      "Processing Record 39 of Set 3 | tanete\n",
      "Processing Record 40 of Set 3 | tilichiki\n",
      "Processing Record 41 of Set 3 | coahuayana\n",
      "Processing Record 42 of Set 3 | palabuhanratu\n"
     ]
    },
    {
     "name": "stderr",
     "output_type": "stream",
     "text": [
      "Traceback (most recent call last):\n",
      "  File \"<ipython-input-9-ed51c550d7dc>\", line 31, in <module>\n",
      "    city_lat = city_weather[\"coord\"][\"lat\"]\n",
      "KeyError: 'coord'\n"
     ]
    },
    {
     "name": "stdout",
     "output_type": "stream",
     "text": [
      "Processing Record 43 of Set 3 | chumikan\n",
      "Processing Record 44 of Set 3 | bontang\n",
      "Processing Record 45 of Set 3 | attawapiskat\n"
     ]
    },
    {
     "name": "stderr",
     "output_type": "stream",
     "text": [
      "Traceback (most recent call last):\n",
      "  File \"<ipython-input-9-ed51c550d7dc>\", line 31, in <module>\n",
      "    city_lat = city_weather[\"coord\"][\"lat\"]\n",
      "KeyError: 'coord'\n"
     ]
    },
    {
     "name": "stdout",
     "output_type": "stream",
     "text": [
      "Processing Record 46 of Set 3 | yarmouth\n",
      "Processing Record 47 of Set 3 | chagda\n"
     ]
    },
    {
     "name": "stderr",
     "output_type": "stream",
     "text": [
      "Traceback (most recent call last):\n",
      "  File \"<ipython-input-9-ed51c550d7dc>\", line 31, in <module>\n",
      "    city_lat = city_weather[\"coord\"][\"lat\"]\n",
      "KeyError: 'coord'\n"
     ]
    },
    {
     "name": "stdout",
     "output_type": "stream",
     "text": [
      "Processing Record 48 of Set 3 | malanje\n",
      "Processing Record 49 of Set 3 | evensk\n",
      "Processing Record 50 of Set 3 | herat\n",
      "Processing Record 1 of Set 4 | georgetown\n",
      "Processing Record 2 of Set 4 | burnie\n",
      "Processing Record 3 of Set 4 | aiquile\n",
      "Processing Record 4 of Set 4 | tuy hoa\n",
      "Processing Record 5 of Set 4 | bolshaya atnya\n"
     ]
    },
    {
     "name": "stderr",
     "output_type": "stream",
     "text": [
      "Traceback (most recent call last):\n",
      "  File \"<ipython-input-9-ed51c550d7dc>\", line 31, in <module>\n",
      "    city_lat = city_weather[\"coord\"][\"lat\"]\n",
      "KeyError: 'coord'\n"
     ]
    },
    {
     "name": "stdout",
     "output_type": "stream",
     "text": [
      "Processing Record 6 of Set 4 | tasiilaq\n",
      "Processing Record 7 of Set 4 | imbituba\n",
      "Processing Record 8 of Set 4 | henties bay\n",
      "Processing Record 9 of Set 4 | kruisfontein\n",
      "Processing Record 10 of Set 4 | vila praia de ancora\n",
      "Processing Record 11 of Set 4 | cabo san lucas\n",
      "Processing Record 12 of Set 4 | saint-pierre\n",
      "Processing Record 13 of Set 4 | mackay\n",
      "Processing Record 14 of Set 4 | laguna\n",
      "Processing Record 15 of Set 4 | chokurdakh\n",
      "Processing Record 16 of Set 4 | guarapari\n",
      "Processing Record 17 of Set 4 | porto murtinho\n",
      "Processing Record 18 of Set 4 | rungata\n"
     ]
    },
    {
     "name": "stderr",
     "output_type": "stream",
     "text": [
      "Traceback (most recent call last):\n",
      "  File \"<ipython-input-9-ed51c550d7dc>\", line 31, in <module>\n",
      "    city_lat = city_weather[\"coord\"][\"lat\"]\n",
      "KeyError: 'coord'\n"
     ]
    },
    {
     "name": "stdout",
     "output_type": "stream",
     "text": [
      "Processing Record 19 of Set 4 | iqaluit\n",
      "Processing Record 20 of Set 4 | komsomolskiy\n",
      "Processing Record 21 of Set 4 | ballina\n",
      "Processing Record 22 of Set 4 | torbay\n",
      "Processing Record 23 of Set 4 | pacific grove\n",
      "Processing Record 24 of Set 4 | igualada\n",
      "Processing Record 25 of Set 4 | half moon bay\n",
      "Processing Record 26 of Set 4 | kahului\n",
      "Processing Record 27 of Set 4 | slavuta\n",
      "Processing Record 28 of Set 4 | sao filipe\n",
      "Processing Record 29 of Set 4 | verkhoyansk\n",
      "Processing Record 30 of Set 4 | ondorhaan\n"
     ]
    },
    {
     "name": "stderr",
     "output_type": "stream",
     "text": [
      "Traceback (most recent call last):\n",
      "  File \"<ipython-input-9-ed51c550d7dc>\", line 31, in <module>\n",
      "    city_lat = city_weather[\"coord\"][\"lat\"]\n",
      "KeyError: 'coord'\n"
     ]
    },
    {
     "name": "stdout",
     "output_type": "stream",
     "text": [
      "Processing Record 31 of Set 4 | pulandian\n",
      "Processing Record 32 of Set 4 | pinega\n",
      "Processing Record 33 of Set 4 | kodiak\n",
      "Processing Record 34 of Set 4 | karymskoye\n",
      "Processing Record 35 of Set 4 | chunoyar\n",
      "Processing Record 36 of Set 4 | jamestown\n",
      "Processing Record 37 of Set 4 | keti bandar\n",
      "Processing Record 38 of Set 4 | pospelikha\n",
      "Processing Record 39 of Set 4 | barcelona\n",
      "Processing Record 40 of Set 4 | kidal\n",
      "Processing Record 41 of Set 4 | meulaboh\n",
      "Processing Record 42 of Set 4 | oranjestad\n",
      "Processing Record 43 of Set 4 | bolungarvik\n"
     ]
    },
    {
     "name": "stderr",
     "output_type": "stream",
     "text": [
      "Traceback (most recent call last):\n",
      "  File \"<ipython-input-9-ed51c550d7dc>\", line 31, in <module>\n",
      "    city_lat = city_weather[\"coord\"][\"lat\"]\n",
      "KeyError: 'coord'\n"
     ]
    },
    {
     "name": "stdout",
     "output_type": "stream",
     "text": [
      "Processing Record 44 of Set 4 | voskresenskoye\n",
      "Processing Record 45 of Set 4 | nizhneyansk\n"
     ]
    },
    {
     "name": "stderr",
     "output_type": "stream",
     "text": [
      "Traceback (most recent call last):\n",
      "  File \"<ipython-input-9-ed51c550d7dc>\", line 31, in <module>\n",
      "    city_lat = city_weather[\"coord\"][\"lat\"]\n",
      "KeyError: 'coord'\n"
     ]
    },
    {
     "name": "stdout",
     "output_type": "stream",
     "text": [
      "Processing Record 46 of Set 4 | banavar\n",
      "Processing Record 47 of Set 4 | umtata\n",
      "Processing Record 48 of Set 4 | port blair\n",
      "Processing Record 49 of Set 4 | flinders\n",
      "Processing Record 50 of Set 4 | huarmey\n",
      "Processing Record 1 of Set 5 | altamont\n",
      "Processing Record 2 of Set 5 | tumannyy\n"
     ]
    },
    {
     "name": "stderr",
     "output_type": "stream",
     "text": [
      "Traceback (most recent call last):\n",
      "  File \"<ipython-input-9-ed51c550d7dc>\", line 31, in <module>\n",
      "    city_lat = city_weather[\"coord\"][\"lat\"]\n",
      "KeyError: 'coord'\n"
     ]
    },
    {
     "name": "stdout",
     "output_type": "stream",
     "text": [
      "Processing Record 3 of Set 5 | nemuro\n",
      "Processing Record 4 of Set 5 | lasa\n",
      "Processing Record 5 of Set 5 | port-gentil\n",
      "Processing Record 6 of Set 5 | lebu\n",
      "Processing Record 7 of Set 5 | husavik\n",
      "Processing Record 8 of Set 5 | umzimvubu\n"
     ]
    },
    {
     "name": "stderr",
     "output_type": "stream",
     "text": [
      "Traceback (most recent call last):\n",
      "  File \"<ipython-input-9-ed51c550d7dc>\", line 31, in <module>\n",
      "    city_lat = city_weather[\"coord\"][\"lat\"]\n",
      "KeyError: 'coord'\n"
     ]
    },
    {
     "name": "stdout",
     "output_type": "stream",
     "text": [
      "Processing Record 9 of Set 5 | ganzhou\n",
      "Processing Record 10 of Set 5 | serenje\n",
      "Processing Record 11 of Set 5 | havre-saint-pierre\n",
      "Processing Record 12 of Set 5 | kermanshah\n",
      "Processing Record 13 of Set 5 | dingle\n",
      "Processing Record 14 of Set 5 | kirakira\n",
      "Processing Record 15 of Set 5 | mapiripan\n",
      "Processing Record 16 of Set 5 | yumen\n",
      "Processing Record 17 of Set 5 | foumban\n",
      "Processing Record 18 of Set 5 | khatanga\n",
      "Processing Record 19 of Set 5 | rorvik\n",
      "Processing Record 20 of Set 5 | ngorongoro\n",
      "Processing Record 21 of Set 5 | mount gambier\n",
      "Processing Record 22 of Set 5 | bathsheba\n",
      "Processing Record 23 of Set 5 | goderich\n",
      "Processing Record 24 of Set 5 | clyde river\n",
      "Processing Record 25 of Set 5 | maloshuyka\n"
     ]
    },
    {
     "name": "stderr",
     "output_type": "stream",
     "text": [
      "Traceback (most recent call last):\n",
      "  File \"<ipython-input-9-ed51c550d7dc>\", line 31, in <module>\n",
      "    city_lat = city_weather[\"coord\"][\"lat\"]\n",
      "KeyError: 'coord'\n"
     ]
    },
    {
     "name": "stdout",
     "output_type": "stream",
     "text": [
      "Processing Record 26 of Set 5 | yithion\n"
     ]
    },
    {
     "name": "stderr",
     "output_type": "stream",
     "text": [
      "Traceback (most recent call last):\n",
      "  File \"<ipython-input-9-ed51c550d7dc>\", line 31, in <module>\n",
      "    city_lat = city_weather[\"coord\"][\"lat\"]\n",
      "KeyError: 'coord'\n"
     ]
    },
    {
     "name": "stdout",
     "output_type": "stream",
     "text": [
      "Processing Record 27 of Set 5 | bambous virieux\n",
      "Processing Record 28 of Set 5 | ambunti\n",
      "Processing Record 29 of Set 5 | kaitangata\n",
      "Processing Record 30 of Set 5 | huaicheng\n",
      "Processing Record 31 of Set 5 | mogadishu\n",
      "Processing Record 32 of Set 5 | beringovskiy\n",
      "Processing Record 33 of Set 5 | aksu\n",
      "Processing Record 34 of Set 5 | souillac\n",
      "Processing Record 35 of Set 5 | gazojak\n",
      "Processing Record 36 of Set 5 | arraial do cabo\n",
      "Processing Record 37 of Set 5 | coihaique\n",
      "Processing Record 38 of Set 5 | lovozero\n",
      "Processing Record 39 of Set 5 | grand gaube\n",
      "Processing Record 40 of Set 5 | puerto del rosario\n",
      "Processing Record 41 of Set 5 | san ramon\n",
      "Processing Record 42 of Set 5 | mont-dore\n",
      "Processing Record 43 of Set 5 | port hardy\n",
      "Processing Record 44 of Set 5 | kpandu\n",
      "Processing Record 45 of Set 5 | hambantota\n",
      "Processing Record 46 of Set 5 | warqla\n"
     ]
    },
    {
     "name": "stderr",
     "output_type": "stream",
     "text": [
      "Traceback (most recent call last):\n",
      "  File \"<ipython-input-9-ed51c550d7dc>\", line 31, in <module>\n",
      "    city_lat = city_weather[\"coord\"][\"lat\"]\n",
      "KeyError: 'coord'\n"
     ]
    },
    {
     "name": "stdout",
     "output_type": "stream",
     "text": [
      "Processing Record 47 of Set 5 | fatehgarh\n",
      "Processing Record 48 of Set 5 | borogontsy\n",
      "Processing Record 49 of Set 5 | yulara\n",
      "Processing Record 50 of Set 5 | yian\n"
     ]
    },
    {
     "name": "stderr",
     "output_type": "stream",
     "text": [
      "Traceback (most recent call last):\n",
      "  File \"<ipython-input-9-ed51c550d7dc>\", line 31, in <module>\n",
      "    city_lat = city_weather[\"coord\"][\"lat\"]\n",
      "KeyError: 'coord'\n"
     ]
    },
    {
     "name": "stdout",
     "output_type": "stream",
     "text": [
      "Processing Record 1 of Set 6 | nantucket\n",
      "Processing Record 2 of Set 6 | carman\n",
      "Processing Record 3 of Set 6 | nanortalik\n",
      "Processing Record 4 of Set 6 | hilo\n",
      "Processing Record 5 of Set 6 | bababe\n"
     ]
    },
    {
     "name": "stderr",
     "output_type": "stream",
     "text": [
      "Traceback (most recent call last):\n",
      "  File \"<ipython-input-9-ed51c550d7dc>\", line 31, in <module>\n",
      "    city_lat = city_weather[\"coord\"][\"lat\"]\n",
      "KeyError: 'coord'\n"
     ]
    },
    {
     "name": "stdout",
     "output_type": "stream",
     "text": [
      "Processing Record 6 of Set 6 | san cristobal\n",
      "Processing Record 7 of Set 6 | zlotow\n",
      "Processing Record 8 of Set 6 | rio claro\n",
      "Processing Record 9 of Set 6 | baley\n",
      "Processing Record 10 of Set 6 | necochea\n",
      "Processing Record 11 of Set 6 | saint-philippe\n",
      "Processing Record 12 of Set 6 | portland\n",
      "Processing Record 13 of Set 6 | chernyshevskiy\n",
      "Processing Record 14 of Set 6 | la ronge\n",
      "Processing Record 15 of Set 6 | chadan\n",
      "Processing Record 16 of Set 6 | formoso do araguaia\n"
     ]
    },
    {
     "name": "stderr",
     "output_type": "stream",
     "text": [
      "Traceback (most recent call last):\n",
      "  File \"<ipython-input-9-ed51c550d7dc>\", line 31, in <module>\n",
      "    city_lat = city_weather[\"coord\"][\"lat\"]\n",
      "KeyError: 'coord'\n"
     ]
    },
    {
     "name": "stdout",
     "output_type": "stream",
     "text": [
      "Processing Record 17 of Set 6 | umm jarr\n"
     ]
    },
    {
     "name": "stderr",
     "output_type": "stream",
     "text": [
      "Traceback (most recent call last):\n",
      "  File \"<ipython-input-9-ed51c550d7dc>\", line 31, in <module>\n",
      "    city_lat = city_weather[\"coord\"][\"lat\"]\n",
      "KeyError: 'coord'\n"
     ]
    },
    {
     "name": "stdout",
     "output_type": "stream",
     "text": [
      "Processing Record 18 of Set 6 | hovd\n",
      "Processing Record 19 of Set 6 | mayahi\n",
      "Processing Record 20 of Set 6 | aripuana\n",
      "Processing Record 21 of Set 6 | eldikan\n"
     ]
    },
    {
     "name": "stderr",
     "output_type": "stream",
     "text": [
      "Traceback (most recent call last):\n",
      "  File \"<ipython-input-9-ed51c550d7dc>\", line 31, in <module>\n",
      "    city_lat = city_weather[\"coord\"][\"lat\"]\n",
      "KeyError: 'coord'\n"
     ]
    },
    {
     "name": "stdout",
     "output_type": "stream",
     "text": [
      "Processing Record 22 of Set 6 | pisco\n",
      "Processing Record 23 of Set 6 | bolshiye uki\n"
     ]
    },
    {
     "name": "stderr",
     "output_type": "stream",
     "text": [
      "Traceback (most recent call last):\n",
      "  File \"<ipython-input-9-ed51c550d7dc>\", line 31, in <module>\n",
      "    city_lat = city_weather[\"coord\"][\"lat\"]\n",
      "KeyError: 'coord'\n"
     ]
    },
    {
     "name": "stdout",
     "output_type": "stream",
     "text": [
      "Processing Record 24 of Set 6 | luorong\n",
      "Processing Record 25 of Set 6 | joao pinheiro\n",
      "Processing Record 26 of Set 6 | fairbanks\n",
      "Processing Record 27 of Set 6 | codrington\n",
      "Processing Record 28 of Set 6 | nuuk\n",
      "Processing Record 29 of Set 6 | bytow\n",
      "Processing Record 30 of Set 6 | marsh harbour\n",
      "Processing Record 31 of Set 6 | bargal\n"
     ]
    },
    {
     "name": "stderr",
     "output_type": "stream",
     "text": [
      "Traceback (most recent call last):\n",
      "  File \"<ipython-input-9-ed51c550d7dc>\", line 31, in <module>\n",
      "    city_lat = city_weather[\"coord\"][\"lat\"]\n",
      "KeyError: 'coord'\n"
     ]
    },
    {
     "name": "stdout",
     "output_type": "stream",
     "text": [
      "Processing Record 32 of Set 6 | opuwo\n",
      "Processing Record 33 of Set 6 | kuche\n"
     ]
    },
    {
     "name": "stderr",
     "output_type": "stream",
     "text": [
      "Traceback (most recent call last):\n",
      "  File \"<ipython-input-9-ed51c550d7dc>\", line 31, in <module>\n",
      "    city_lat = city_weather[\"coord\"][\"lat\"]\n",
      "KeyError: 'coord'\n"
     ]
    },
    {
     "name": "stdout",
     "output_type": "stream",
     "text": [
      "Processing Record 34 of Set 6 | maxixe\n",
      "Processing Record 35 of Set 6 | obidos\n",
      "Processing Record 36 of Set 6 | mawlaik\n",
      "Processing Record 37 of Set 6 | faya\n",
      "Processing Record 38 of Set 6 | kupino\n",
      "Processing Record 39 of Set 6 | karratha\n",
      "Processing Record 40 of Set 6 | maymyo\n",
      "Processing Record 41 of Set 6 | skibbereen\n",
      "Processing Record 42 of Set 6 | abu samrah\n",
      "Processing Record 43 of Set 6 | namibe\n",
      "Processing Record 44 of Set 6 | santa rosa\n",
      "Processing Record 45 of Set 6 | napanee\n",
      "Processing Record 46 of Set 6 | faanui\n",
      "Processing Record 47 of Set 6 | flobecq\n",
      "Processing Record 48 of Set 6 | ermelo\n",
      "Processing Record 49 of Set 6 | haines junction\n",
      "Processing Record 50 of Set 6 | pachino\n",
      "Processing Record 1 of Set 7 | khasan\n",
      "Processing Record 2 of Set 7 | sobolevo\n",
      "Processing Record 3 of Set 7 | tazovskiy\n",
      "Processing Record 4 of Set 7 | forbes\n",
      "Processing Record 5 of Set 7 | manono\n",
      "Processing Record 6 of Set 7 | rawson\n",
      "Processing Record 7 of Set 7 | lata\n",
      "Processing Record 8 of Set 7 | bend\n",
      "Processing Record 9 of Set 7 | thompson\n",
      "Processing Record 10 of Set 7 | sarakhs\n",
      "Processing Record 11 of Set 7 | kavieng\n",
      "Processing Record 12 of Set 7 | ugoofaaru\n",
      "Processing Record 13 of Set 7 | burica\n"
     ]
    },
    {
     "name": "stderr",
     "output_type": "stream",
     "text": [
      "Traceback (most recent call last):\n",
      "  File \"<ipython-input-9-ed51c550d7dc>\", line 31, in <module>\n",
      "    city_lat = city_weather[\"coord\"][\"lat\"]\n",
      "KeyError: 'coord'\n"
     ]
    },
    {
     "name": "stdout",
     "output_type": "stream",
     "text": [
      "Processing Record 14 of Set 7 | marzuq\n",
      "Processing Record 15 of Set 7 | najran\n",
      "Processing Record 16 of Set 7 | porto novo\n",
      "Processing Record 17 of Set 7 | san jose\n",
      "Processing Record 18 of Set 7 | namatanai\n",
      "Processing Record 19 of Set 7 | karlskrona\n",
      "Processing Record 20 of Set 7 | louisbourg\n"
     ]
    },
    {
     "name": "stderr",
     "output_type": "stream",
     "text": [
      "Traceback (most recent call last):\n",
      "  File \"<ipython-input-9-ed51c550d7dc>\", line 31, in <module>\n",
      "    city_lat = city_weather[\"coord\"][\"lat\"]\n",
      "KeyError: 'coord'\n"
     ]
    },
    {
     "name": "stdout",
     "output_type": "stream",
     "text": [
      "Processing Record 21 of Set 7 | coquimbo\n",
      "Processing Record 22 of Set 7 | mitsamiouli\n",
      "Processing Record 23 of Set 7 | constitucion\n",
      "Processing Record 24 of Set 7 | lompoc\n",
      "Processing Record 25 of Set 7 | tsihombe\n"
     ]
    },
    {
     "name": "stderr",
     "output_type": "stream",
     "text": [
      "Traceback (most recent call last):\n",
      "  File \"<ipython-input-9-ed51c550d7dc>\", line 31, in <module>\n",
      "    city_lat = city_weather[\"coord\"][\"lat\"]\n",
      "KeyError: 'coord'\n"
     ]
    },
    {
     "name": "stdout",
     "output_type": "stream",
     "text": [
      "Processing Record 26 of Set 7 | ust-ishim\n",
      "Processing Record 27 of Set 7 | egvekinot\n",
      "Processing Record 28 of Set 7 | acapulco\n",
      "Processing Record 29 of Set 7 | airai\n",
      "Processing Record 30 of Set 7 | pevek\n",
      "Processing Record 31 of Set 7 | aizawl\n",
      "Processing Record 32 of Set 7 | the valley\n",
      "Processing Record 33 of Set 7 | niquero\n",
      "Processing Record 34 of Set 7 | touros\n",
      "Processing Record 35 of Set 7 | choma\n",
      "Processing Record 36 of Set 7 | leh\n",
      "Processing Record 37 of Set 7 | rudbar\n",
      "Processing Record 38 of Set 7 | nishihara\n",
      "Processing Record 39 of Set 7 | okandja\n"
     ]
    },
    {
     "name": "stderr",
     "output_type": "stream",
     "text": [
      "Traceback (most recent call last):\n",
      "  File \"<ipython-input-9-ed51c550d7dc>\", line 31, in <module>\n",
      "    city_lat = city_weather[\"coord\"][\"lat\"]\n",
      "KeyError: 'coord'\n"
     ]
    },
    {
     "name": "stdout",
     "output_type": "stream",
     "text": [
      "Processing Record 40 of Set 7 | hamilton\n",
      "Processing Record 41 of Set 7 | inirida\n",
      "Processing Record 42 of Set 7 | puquio\n",
      "Processing Record 43 of Set 7 | lodja\n",
      "Processing Record 44 of Set 7 | luena\n",
      "Processing Record 45 of Set 7 | hit\n",
      "Processing Record 46 of Set 7 | plouzane\n",
      "Processing Record 47 of Set 7 | aulla\n",
      "Processing Record 48 of Set 7 | gizo\n",
      "Processing Record 49 of Set 7 | samusu\n"
     ]
    },
    {
     "name": "stderr",
     "output_type": "stream",
     "text": [
      "Traceback (most recent call last):\n",
      "  File \"<ipython-input-9-ed51c550d7dc>\", line 31, in <module>\n",
      "    city_lat = city_weather[\"coord\"][\"lat\"]\n",
      "KeyError: 'coord'\n"
     ]
    },
    {
     "name": "stdout",
     "output_type": "stream",
     "text": [
      "Processing Record 50 of Set 7 | lake city\n",
      "Processing Record 1 of Set 8 | juazeiro\n",
      "Processing Record 2 of Set 8 | vao\n",
      "Processing Record 3 of Set 8 | colares\n",
      "Processing Record 4 of Set 8 | wagga wagga\n",
      "Processing Record 5 of Set 8 | balabac\n",
      "Processing Record 6 of Set 8 | kingston\n",
      "Processing Record 7 of Set 8 | huicheng\n",
      "Processing Record 8 of Set 8 | san policarpo\n",
      "Processing Record 9 of Set 8 | axim\n",
      "Processing Record 10 of Set 8 | vestmanna\n",
      "Processing Record 11 of Set 8 | muisne\n",
      "Processing Record 12 of Set 8 | ourossogui\n",
      "Processing Record 13 of Set 8 | sharjah\n",
      "Processing Record 14 of Set 8 | lagoa\n",
      "Processing Record 15 of Set 8 | haapu\n"
     ]
    },
    {
     "name": "stderr",
     "output_type": "stream",
     "text": [
      "Traceback (most recent call last):\n",
      "  File \"<ipython-input-9-ed51c550d7dc>\", line 31, in <module>\n",
      "    city_lat = city_weather[\"coord\"][\"lat\"]\n",
      "KeyError: 'coord'\n"
     ]
    },
    {
     "name": "stdout",
     "output_type": "stream",
     "text": [
      "Processing Record 16 of Set 8 | okhotsk\n",
      "Processing Record 17 of Set 8 | los llanos de aridane\n",
      "Processing Record 18 of Set 8 | shamsabad\n",
      "Processing Record 19 of Set 8 | general roca\n",
      "Processing Record 20 of Set 8 | joppatowne\n",
      "Processing Record 21 of Set 8 | port elizabeth\n",
      "Processing Record 22 of Set 8 | shar\n",
      "Processing Record 23 of Set 8 | cintalapa\n",
      "Processing Record 24 of Set 8 | yar-sale\n",
      "Processing Record 25 of Set 8 | makakilo city\n",
      "Processing Record 26 of Set 8 | walvis bay\n",
      "Processing Record 27 of Set 8 | victor harbor\n",
      "Processing Record 28 of Set 8 | grand-santi\n",
      "Processing Record 29 of Set 8 | neuquen\n",
      "Processing Record 30 of Set 8 | karatsu\n",
      "Processing Record 31 of Set 8 | celestun\n",
      "Processing Record 32 of Set 8 | gat\n",
      "Processing Record 33 of Set 8 | teguise\n",
      "Processing Record 34 of Set 8 | krasnovka\n",
      "Processing Record 35 of Set 8 | mitla\n",
      "Processing Record 36 of Set 8 | gloucester\n",
      "Processing Record 37 of Set 8 | san patricio\n",
      "Processing Record 38 of Set 8 | praia da vitoria\n",
      "Processing Record 39 of Set 8 | tamparan\n",
      "Processing Record 40 of Set 8 | kanniyakumari\n",
      "Processing Record 41 of Set 8 | esperance\n",
      "Processing Record 42 of Set 8 | ambilobe\n",
      "Processing Record 43 of Set 8 | hohhot\n",
      "Processing Record 44 of Set 8 | inhambane\n",
      "Processing Record 45 of Set 8 | mehamn\n",
      "Processing Record 46 of Set 8 | nhulunbuy\n",
      "Processing Record 47 of Set 8 | tateyama\n",
      "Processing Record 48 of Set 8 | aswan\n",
      "Processing Record 49 of Set 8 | krasnoselkup\n",
      "Processing Record 50 of Set 8 | tlahualilo\n"
     ]
    },
    {
     "name": "stderr",
     "output_type": "stream",
     "text": [
      "Traceback (most recent call last):\n",
      "  File \"<ipython-input-9-ed51c550d7dc>\", line 31, in <module>\n",
      "    city_lat = city_weather[\"coord\"][\"lat\"]\n",
      "KeyError: 'coord'\n"
     ]
    },
    {
     "name": "stdout",
     "output_type": "stream",
     "text": [
      "Processing Record 1 of Set 9 | bose\n",
      "Processing Record 2 of Set 9 | beidao\n",
      "Processing Record 3 of Set 9 | mount isa\n",
      "Processing Record 4 of Set 9 | iskateley\n",
      "Processing Record 5 of Set 9 | ayan\n",
      "Processing Record 6 of Set 9 | fiumicino\n",
      "Processing Record 7 of Set 9 | ngunguru\n",
      "Processing Record 8 of Set 9 | byron bay\n",
      "Processing Record 9 of Set 9 | chum phae\n",
      "Processing Record 10 of Set 9 | poya\n",
      "Processing Record 11 of Set 9 | emerald\n",
      "Processing Record 12 of Set 9 | shatalovo\n",
      "Processing Record 13 of Set 9 | isilkul\n",
      "Processing Record 14 of Set 9 | hobyo\n",
      "Processing Record 15 of Set 9 | waipawa\n",
      "Processing Record 16 of Set 9 | kaptanganj\n",
      "Processing Record 17 of Set 9 | te anau\n",
      "Processing Record 18 of Set 9 | stornoway\n",
      "Processing Record 19 of Set 9 | starozhilovo\n",
      "Processing Record 20 of Set 9 | gueret\n",
      "Processing Record 21 of Set 9 | adrar\n",
      "Processing Record 22 of Set 9 | graaff-reinet\n",
      "Processing Record 23 of Set 9 | dourbali\n",
      "Processing Record 24 of Set 9 | smidovich\n",
      "Processing Record 25 of Set 9 | bubaque\n",
      "Processing Record 26 of Set 9 | lulea\n",
      "Processing Record 27 of Set 9 | uinskoye\n",
      "Processing Record 28 of Set 9 | qianan\n",
      "Processing Record 29 of Set 9 | north bend\n",
      "Processing Record 30 of Set 9 | tura\n",
      "Processing Record 31 of Set 9 | port macquarie\n",
      "Processing Record 32 of Set 9 | esquipulas\n",
      "Processing Record 33 of Set 9 | kangaatsiaq\n",
      "Processing Record 34 of Set 9 | mabamba\n",
      "Processing Record 35 of Set 9 | chara\n",
      "Processing Record 36 of Set 9 | gualaquiza\n",
      "Processing Record 37 of Set 9 | tabukiniberu\n"
     ]
    },
    {
     "name": "stderr",
     "output_type": "stream",
     "text": [
      "Traceback (most recent call last):\n",
      "  File \"<ipython-input-9-ed51c550d7dc>\", line 31, in <module>\n",
      "    city_lat = city_weather[\"coord\"][\"lat\"]\n",
      "KeyError: 'coord'\n"
     ]
    },
    {
     "name": "stdout",
     "output_type": "stream",
     "text": [
      "Processing Record 38 of Set 9 | baruun-urt\n",
      "Processing Record 39 of Set 9 | kadykchan\n"
     ]
    },
    {
     "name": "stderr",
     "output_type": "stream",
     "text": [
      "Traceback (most recent call last):\n",
      "  File \"<ipython-input-9-ed51c550d7dc>\", line 31, in <module>\n",
      "    city_lat = city_weather[\"coord\"][\"lat\"]\n",
      "KeyError: 'coord'\n"
     ]
    },
    {
     "name": "stdout",
     "output_type": "stream",
     "text": [
      "Processing Record 40 of Set 9 | labrea\n",
      "Processing Record 41 of Set 9 | ayagoz\n",
      "Processing Record 42 of Set 9 | jalu\n",
      "Processing Record 43 of Set 9 | lorengau\n",
      "Processing Record 44 of Set 9 | arkhangelos\n"
     ]
    },
    {
     "name": "stderr",
     "output_type": "stream",
     "text": [
      "Traceback (most recent call last):\n",
      "  File \"<ipython-input-9-ed51c550d7dc>\", line 31, in <module>\n",
      "    city_lat = city_weather[\"coord\"][\"lat\"]\n",
      "KeyError: 'coord'\n"
     ]
    },
    {
     "name": "stdout",
     "output_type": "stream",
     "text": [
      "Processing Record 45 of Set 9 | salalah\n",
      "Processing Record 46 of Set 9 | dubbo\n",
      "Processing Record 47 of Set 9 | hualmay\n",
      "Processing Record 48 of Set 9 | broken hill\n",
      "Processing Record 49 of Set 9 | sun valley\n",
      "Processing Record 50 of Set 9 | aloleng\n",
      "Processing Record 1 of Set 10 | kisangani\n",
      "Processing Record 2 of Set 10 | yinchuan\n",
      "Processing Record 3 of Set 10 | salinopolis\n",
      "Processing Record 4 of Set 10 | erdaojiang\n",
      "Processing Record 5 of Set 10 | xam nua\n",
      "Processing Record 6 of Set 10 | dali\n",
      "Processing Record 7 of Set 10 | kloulklubed\n",
      "Processing Record 8 of Set 10 | bekasi\n",
      "Processing Record 9 of Set 10 | saint-augustin\n",
      "Processing Record 10 of Set 10 | alice springs\n",
      "Processing Record 11 of Set 10 | teocaltiche\n",
      "Processing Record 12 of Set 10 | kitimat\n",
      "Processing Record 13 of Set 10 | erenhot\n",
      "Processing Record 14 of Set 10 | baie-comeau\n",
      "Processing Record 15 of Set 10 | kalianget\n",
      "Processing Record 16 of Set 10 | avezzano\n",
      "Processing Record 17 of Set 10 | rocha\n",
      "Processing Record 18 of Set 10 | dhola\n",
      "Processing Record 19 of Set 10 | roswell\n",
      "Processing Record 20 of Set 10 | kazalinsk\n"
     ]
    },
    {
     "name": "stderr",
     "output_type": "stream",
     "text": [
      "Traceback (most recent call last):\n",
      "  File \"<ipython-input-9-ed51c550d7dc>\", line 31, in <module>\n",
      "    city_lat = city_weather[\"coord\"][\"lat\"]\n",
      "KeyError: 'coord'\n"
     ]
    },
    {
     "name": "stdout",
     "output_type": "stream",
     "text": [
      "Processing Record 21 of Set 10 | tallahassee\n",
      "Processing Record 22 of Set 10 | cayenne\n",
      "Processing Record 23 of Set 10 | ribeira grande\n",
      "Processing Record 24 of Set 10 | saldanha\n",
      "Processing Record 25 of Set 10 | konibodom\n",
      "Processing Record 26 of Set 10 | grand river south east\n"
     ]
    },
    {
     "name": "stderr",
     "output_type": "stream",
     "text": [
      "Traceback (most recent call last):\n",
      "  File \"<ipython-input-9-ed51c550d7dc>\", line 31, in <module>\n",
      "    city_lat = city_weather[\"coord\"][\"lat\"]\n",
      "KeyError: 'coord'\n"
     ]
    },
    {
     "name": "stdout",
     "output_type": "stream",
     "text": [
      "Processing Record 27 of Set 10 | porto santo\n",
      "Processing Record 28 of Set 10 | giehun\n",
      "Processing Record 29 of Set 10 | deputatskiy\n",
      "Processing Record 30 of Set 10 | daru\n",
      "Processing Record 31 of Set 10 | jining\n",
      "Processing Record 32 of Set 10 | zlatoustovsk\n"
     ]
    },
    {
     "name": "stderr",
     "output_type": "stream",
     "text": [
      "Traceback (most recent call last):\n",
      "  File \"<ipython-input-9-ed51c550d7dc>\", line 31, in <module>\n",
      "    city_lat = city_weather[\"coord\"][\"lat\"]\n",
      "KeyError: 'coord'\n"
     ]
    },
    {
     "name": "stdout",
     "output_type": "stream",
     "text": [
      "Processing Record 33 of Set 10 | ormond beach\n",
      "Processing Record 34 of Set 10 | biak\n",
      "Processing Record 35 of Set 10 | kushmurun\n",
      "Processing Record 36 of Set 10 | nikolayevskaya\n",
      "Processing Record 37 of Set 10 | severo-kurilsk\n",
      "Processing Record 38 of Set 10 | talnakh\n",
      "Processing Record 39 of Set 10 | mahibadhoo\n",
      "Processing Record 40 of Set 10 | jardim\n",
      "Processing Record 41 of Set 10 | mandalgarh\n",
      "Processing Record 42 of Set 10 | windhoek\n",
      "Processing Record 43 of Set 10 | puerto suarez\n",
      "Processing Record 44 of Set 10 | leningradskiy\n",
      "Processing Record 45 of Set 10 | kasongo-lunda\n",
      "Processing Record 46 of Set 10 | melissourgoi\n"
     ]
    },
    {
     "name": "stderr",
     "output_type": "stream",
     "text": [
      "Traceback (most recent call last):\n",
      "  File \"<ipython-input-9-ed51c550d7dc>\", line 31, in <module>\n",
      "    city_lat = city_weather[\"coord\"][\"lat\"]\n",
      "KeyError: 'coord'\n"
     ]
    },
    {
     "name": "stdout",
     "output_type": "stream",
     "text": [
      "Processing Record 47 of Set 10 | srandakan\n",
      "Processing Record 48 of Set 10 | kapoeta\n",
      "Processing Record 49 of Set 10 | cabedelo\n",
      "Processing Record 50 of Set 10 | san jeronimo\n",
      "Processing Record 1 of Set 11 | lushunkou\n"
     ]
    },
    {
     "name": "stderr",
     "output_type": "stream",
     "text": [
      "Traceback (most recent call last):\n",
      "  File \"<ipython-input-9-ed51c550d7dc>\", line 31, in <module>\n",
      "    city_lat = city_weather[\"coord\"][\"lat\"]\n",
      "KeyError: 'coord'\n"
     ]
    },
    {
     "name": "stdout",
     "output_type": "stream",
     "text": [
      "Processing Record 2 of Set 11 | urumqi\n",
      "Processing Record 3 of Set 11 | ojinaga\n",
      "Processing Record 4 of Set 11 | puyang\n",
      "Processing Record 5 of Set 11 | rodrigues alves\n",
      "Processing Record 6 of Set 11 | gravdal\n",
      "Processing Record 7 of Set 11 | alofi\n",
      "Processing Record 8 of Set 11 | palmer\n",
      "Processing Record 9 of Set 11 | abu jubayhah\n"
     ]
    },
    {
     "name": "stderr",
     "output_type": "stream",
     "text": [
      "Traceback (most recent call last):\n",
      "  File \"<ipython-input-9-ed51c550d7dc>\", line 31, in <module>\n",
      "    city_lat = city_weather[\"coord\"][\"lat\"]\n",
      "KeyError: 'coord'\n"
     ]
    },
    {
     "name": "stdout",
     "output_type": "stream",
     "text": [
      "Processing Record 10 of Set 11 | broome\n",
      "Processing Record 11 of Set 11 | victoria\n",
      "Processing Record 12 of Set 11 | apatity\n",
      "Processing Record 13 of Set 11 | gamba\n",
      "Processing Record 14 of Set 11 | matviyivka\n",
      "Processing Record 15 of Set 11 | sokoni\n",
      "Processing Record 16 of Set 11 | kurikka\n",
      "Processing Record 17 of Set 11 | bilma\n",
      "Processing Record 18 of Set 11 | wawa\n",
      "Processing Record 19 of Set 11 | kalemie\n",
      "Processing Record 20 of Set 11 | camacha\n",
      "Processing Record 21 of Set 11 | copiapo\n",
      "Processing Record 22 of Set 11 | port-cartier\n",
      "Processing Record 23 of Set 11 | cap malheureux\n",
      "Processing Record 24 of Set 11 | urubicha\n",
      "Processing Record 25 of Set 11 | tual\n",
      "Processing Record 26 of Set 11 | pacifica\n",
      "Processing Record 27 of Set 11 | havelock\n",
      "Processing Record 28 of Set 11 | ponta delgada\n",
      "Processing Record 29 of Set 11 | buariki\n"
     ]
    },
    {
     "name": "stderr",
     "output_type": "stream",
     "text": [
      "Traceback (most recent call last):\n",
      "  File \"<ipython-input-9-ed51c550d7dc>\", line 31, in <module>\n",
      "    city_lat = city_weather[\"coord\"][\"lat\"]\n",
      "KeyError: 'coord'\n"
     ]
    },
    {
     "name": "stdout",
     "output_type": "stream",
     "text": [
      "Processing Record 30 of Set 11 | tete\n",
      "Processing Record 31 of Set 11 | sedan\n",
      "Processing Record 32 of Set 11 | gohana\n",
      "Processing Record 33 of Set 11 | umm lajj\n",
      "Processing Record 34 of Set 11 | qingdao\n",
      "Processing Record 35 of Set 11 | sorkjosen\n",
      "Processing Record 36 of Set 11 | naze\n",
      "Processing Record 37 of Set 11 | eyl\n",
      "Processing Record 38 of Set 11 | toliary\n"
     ]
    },
    {
     "name": "stderr",
     "output_type": "stream",
     "text": [
      "Traceback (most recent call last):\n",
      "  File \"<ipython-input-9-ed51c550d7dc>\", line 31, in <module>\n",
      "    city_lat = city_weather[\"coord\"][\"lat\"]\n",
      "KeyError: 'coord'\n"
     ]
    },
    {
     "name": "stdout",
     "output_type": "stream",
     "text": [
      "Processing Record 39 of Set 11 | buchanan\n",
      "Processing Record 40 of Set 11 | vila franca do campo\n",
      "Processing Record 41 of Set 11 | bezhetsk\n",
      "Processing Record 42 of Set 11 | zolotinka\n"
     ]
    },
    {
     "name": "stderr",
     "output_type": "stream",
     "text": [
      "Traceback (most recent call last):\n",
      "  File \"<ipython-input-9-ed51c550d7dc>\", line 31, in <module>\n",
      "    city_lat = city_weather[\"coord\"][\"lat\"]\n",
      "KeyError: 'coord'\n"
     ]
    },
    {
     "name": "stdout",
     "output_type": "stream",
     "text": [
      "Processing Record 43 of Set 11 | falealupo\n"
     ]
    },
    {
     "name": "stderr",
     "output_type": "stream",
     "text": [
      "Traceback (most recent call last):\n",
      "  File \"<ipython-input-9-ed51c550d7dc>\", line 31, in <module>\n",
      "    city_lat = city_weather[\"coord\"][\"lat\"]\n",
      "KeyError: 'coord'\n"
     ]
    },
    {
     "name": "stdout",
     "output_type": "stream",
     "text": [
      "Processing Record 44 of Set 11 | konya\n",
      "Processing Record 45 of Set 11 | kedrovyy\n",
      "Processing Record 46 of Set 11 | talcahuano\n",
      "Processing Record 47 of Set 11 | wanaka\n",
      "Processing Record 48 of Set 11 | maceio\n",
      "Processing Record 49 of Set 11 | vung tau\n",
      "Processing Record 50 of Set 11 | calama\n",
      "Processing Record 1 of Set 12 | kaduy\n",
      "Processing Record 2 of Set 12 | karkaralinsk\n"
     ]
    },
    {
     "name": "stderr",
     "output_type": "stream",
     "text": [
      "Traceback (most recent call last):\n",
      "  File \"<ipython-input-9-ed51c550d7dc>\", line 31, in <module>\n",
      "    city_lat = city_weather[\"coord\"][\"lat\"]\n",
      "KeyError: 'coord'\n"
     ]
    },
    {
     "name": "stdout",
     "output_type": "stream",
     "text": [
      "Processing Record 3 of Set 12 | marawi\n",
      "Processing Record 4 of Set 12 | kargasok\n",
      "Processing Record 5 of Set 12 | gorontalo\n",
      "Processing Record 6 of Set 12 | luwuk\n",
      "Processing Record 7 of Set 12 | mendahara\n"
     ]
    },
    {
     "name": "stderr",
     "output_type": "stream",
     "text": [
      "Traceback (most recent call last):\n",
      "  File \"<ipython-input-9-ed51c550d7dc>\", line 31, in <module>\n",
      "    city_lat = city_weather[\"coord\"][\"lat\"]\n",
      "KeyError: 'coord'\n"
     ]
    },
    {
     "name": "stdout",
     "output_type": "stream",
     "text": [
      "Processing Record 8 of Set 12 | khorinsk\n",
      "Processing Record 9 of Set 12 | doctor pedro p. pena\n"
     ]
    },
    {
     "name": "stderr",
     "output_type": "stream",
     "text": [
      "Traceback (most recent call last):\n",
      "  File \"<ipython-input-9-ed51c550d7dc>\", line 31, in <module>\n",
      "    city_lat = city_weather[\"coord\"][\"lat\"]\n",
      "KeyError: 'coord'\n"
     ]
    },
    {
     "name": "stdout",
     "output_type": "stream",
     "text": [
      "Processing Record 10 of Set 12 | hanamaki\n",
      "Processing Record 11 of Set 12 | watsa\n",
      "Processing Record 12 of Set 12 | atar\n",
      "Processing Record 13 of Set 12 | manta\n",
      "Processing Record 14 of Set 12 | venustiano carranza\n",
      "Processing Record 15 of Set 12 | kroya\n",
      "Processing Record 16 of Set 12 | sadiqabad\n",
      "Processing Record 17 of Set 12 | krasnyy yar\n",
      "Processing Record 18 of Set 12 | geraldton\n",
      "Processing Record 19 of Set 12 | iralaya\n",
      "Processing Record 20 of Set 12 | catemaco\n",
      "Processing Record 21 of Set 12 | srem\n",
      "Processing Record 22 of Set 12 | samarai\n",
      "Processing Record 23 of Set 12 | bandundu\n",
      "Processing Record 24 of Set 12 | la paz\n",
      "Processing Record 25 of Set 12 | scottsbluff\n",
      "Processing Record 26 of Set 12 | pitimbu\n",
      "Processing Record 27 of Set 12 | ban nahin\n",
      "Processing Record 28 of Set 12 | callaguip\n",
      "Processing Record 29 of Set 12 | umm durman\n"
     ]
    },
    {
     "name": "stderr",
     "output_type": "stream",
     "text": [
      "Traceback (most recent call last):\n",
      "  File \"<ipython-input-9-ed51c550d7dc>\", line 31, in <module>\n",
      "    city_lat = city_weather[\"coord\"][\"lat\"]\n",
      "KeyError: 'coord'\n"
     ]
    },
    {
     "name": "stdout",
     "output_type": "stream",
     "text": [
      "Processing Record 30 of Set 12 | balaipungut\n",
      "Processing Record 31 of Set 12 | bud\n",
      "Processing Record 32 of Set 12 | itaqui\n",
      "Processing Record 33 of Set 12 | shingu\n",
      "Processing Record 34 of Set 12 | eirunepe\n",
      "Processing Record 35 of Set 12 | urfa\n"
     ]
    },
    {
     "name": "stderr",
     "output_type": "stream",
     "text": [
      "Traceback (most recent call last):\n",
      "  File \"<ipython-input-9-ed51c550d7dc>\", line 31, in <module>\n",
      "    city_lat = city_weather[\"coord\"][\"lat\"]\n",
      "KeyError: 'coord'\n"
     ]
    },
    {
     "name": "stdout",
     "output_type": "stream",
     "text": [
      "Processing Record 36 of Set 12 | repalle\n",
      "Processing Record 37 of Set 12 | orbetello\n",
      "Processing Record 38 of Set 12 | kiama\n",
      "Processing Record 39 of Set 12 | lesnoy\n",
      "Processing Record 40 of Set 12 | cody\n",
      "Processing Record 41 of Set 12 | ituni\n"
     ]
    },
    {
     "name": "stderr",
     "output_type": "stream",
     "text": [
      "Traceback (most recent call last):\n",
      "  File \"<ipython-input-9-ed51c550d7dc>\", line 31, in <module>\n",
      "    city_lat = city_weather[\"coord\"][\"lat\"]\n",
      "KeyError: 'coord'\n"
     ]
    },
    {
     "name": "stdout",
     "output_type": "stream",
     "text": [
      "Processing Record 42 of Set 12 | kelme\n",
      "Processing Record 43 of Set 12 | aasiaat\n",
      "Processing Record 44 of Set 12 | koszeg\n",
      "Processing Record 45 of Set 12 | nabire\n",
      "Processing Record 46 of Set 12 | paamiut\n",
      "Processing Record 47 of Set 12 | maniitsoq\n",
      "Processing Record 48 of Set 12 | knysna\n",
      "Processing Record 49 of Set 12 | ketchikan\n",
      "Processing Record 50 of Set 12 | reconquista\n",
      "Processing Record 1 of Set 13 | labuhan\n",
      "Processing Record 2 of Set 13 | pontian kecil\n",
      "Processing Record 3 of Set 13 | varniai\n",
      "Processing Record 4 of Set 13 | loa janan\n",
      "Processing Record 5 of Set 13 | lages\n",
      "Processing Record 6 of Set 13 | lesnyye polyany\n",
      "Processing Record 7 of Set 13 | fecamp\n",
      "Processing Record 8 of Set 13 | salym\n",
      "Processing Record 9 of Set 13 | itarema\n",
      "Processing Record 10 of Set 13 | boa vista\n",
      "Processing Record 11 of Set 13 | agirish\n",
      "Processing Record 12 of Set 13 | chicama\n",
      "Processing Record 13 of Set 13 | batagay-alyta\n",
      "Processing Record 14 of Set 13 | monroe\n",
      "Processing Record 15 of Set 13 | auki\n",
      "Processing Record 16 of Set 13 | marcona\n"
     ]
    },
    {
     "name": "stderr",
     "output_type": "stream",
     "text": [
      "Traceback (most recent call last):\n",
      "  File \"<ipython-input-9-ed51c550d7dc>\", line 31, in <module>\n",
      "    city_lat = city_weather[\"coord\"][\"lat\"]\n",
      "KeyError: 'coord'\n"
     ]
    },
    {
     "name": "stdout",
     "output_type": "stream",
     "text": [
      "Processing Record 17 of Set 13 | bajo baudo\n"
     ]
    },
    {
     "name": "stderr",
     "output_type": "stream",
     "text": [
      "Traceback (most recent call last):\n",
      "  File \"<ipython-input-9-ed51c550d7dc>\", line 31, in <module>\n",
      "    city_lat = city_weather[\"coord\"][\"lat\"]\n",
      "KeyError: 'coord'\n"
     ]
    },
    {
     "name": "stdout",
     "output_type": "stream",
     "text": [
      "Processing Record 18 of Set 13 | oro valley\n",
      "Processing Record 19 of Set 13 | san miguel\n",
      "Processing Record 20 of Set 13 | mocambique\n"
     ]
    },
    {
     "name": "stderr",
     "output_type": "stream",
     "text": [
      "Traceback (most recent call last):\n",
      "  File \"<ipython-input-9-ed51c550d7dc>\", line 31, in <module>\n",
      "    city_lat = city_weather[\"coord\"][\"lat\"]\n",
      "KeyError: 'coord'\n"
     ]
    },
    {
     "name": "stdout",
     "output_type": "stream",
     "text": [
      "Processing Record 21 of Set 13 | changli\n",
      "Processing Record 22 of Set 13 | ondarroa\n",
      "Processing Record 23 of Set 13 | ust-kuyga\n",
      "Processing Record 24 of Set 13 | liverpool\n",
      "Processing Record 25 of Set 13 | borba\n",
      "Processing Record 26 of Set 13 | morropon\n",
      "Processing Record 27 of Set 13 | pangody\n",
      "Processing Record 28 of Set 13 | oktyabrskoye\n",
      "Processing Record 29 of Set 13 | bokspits\n"
     ]
    },
    {
     "name": "stderr",
     "output_type": "stream",
     "text": [
      "Traceback (most recent call last):\n",
      "  File \"<ipython-input-9-ed51c550d7dc>\", line 31, in <module>\n",
      "    city_lat = city_weather[\"coord\"][\"lat\"]\n",
      "KeyError: 'coord'\n"
     ]
    },
    {
     "name": "stdout",
     "output_type": "stream",
     "text": [
      "Processing Record 30 of Set 13 | kalia\n",
      "Processing Record 31 of Set 13 | banda aceh\n",
      "Processing Record 32 of Set 13 | caborca\n",
      "Processing Record 33 of Set 13 | richards bay\n",
      "Processing Record 34 of Set 13 | sofiysk\n"
     ]
    },
    {
     "name": "stderr",
     "output_type": "stream",
     "text": [
      "Traceback (most recent call last):\n",
      "  File \"<ipython-input-9-ed51c550d7dc>\", line 31, in <module>\n",
      "    city_lat = city_weather[\"coord\"][\"lat\"]\n",
      "KeyError: 'coord'\n"
     ]
    },
    {
     "name": "stdout",
     "output_type": "stream",
     "text": [
      "Processing Record 35 of Set 13 | igarka\n",
      "Processing Record 36 of Set 13 | aporawan\n"
     ]
    },
    {
     "name": "stderr",
     "output_type": "stream",
     "text": [
      "Traceback (most recent call last):\n",
      "  File \"<ipython-input-9-ed51c550d7dc>\", line 31, in <module>\n",
      "    city_lat = city_weather[\"coord\"][\"lat\"]\n",
      "KeyError: 'coord'\n"
     ]
    },
    {
     "name": "stdout",
     "output_type": "stream",
     "text": [
      "Processing Record 37 of Set 13 | biograd na moru\n",
      "Processing Record 38 of Set 13 | ilebo\n",
      "Processing Record 39 of Set 13 | bonavista\n",
      "Processing Record 40 of Set 13 | saint-henri-de-levis\n"
     ]
    },
    {
     "name": "stderr",
     "output_type": "stream",
     "text": [
      "Traceback (most recent call last):\n",
      "  File \"<ipython-input-9-ed51c550d7dc>\", line 31, in <module>\n",
      "    city_lat = city_weather[\"coord\"][\"lat\"]\n",
      "KeyError: 'coord'\n"
     ]
    },
    {
     "name": "stdout",
     "output_type": "stream",
     "text": [
      "Processing Record 41 of Set 13 | belyy yar\n",
      "Processing Record 42 of Set 13 | kenai\n",
      "Processing Record 43 of Set 13 | mosquera\n",
      "Processing Record 44 of Set 13 | luanda\n",
      "Processing Record 45 of Set 13 | moree\n",
      "Processing Record 46 of Set 13 | kasane\n",
      "Processing Record 47 of Set 13 | tautira\n",
      "Processing Record 48 of Set 13 | ericeira\n",
      "Processing Record 49 of Set 13 | cheremukhovo\n",
      "Processing Record 50 of Set 13 | sao joao da barra\n",
      "Processing Record 1 of Set 14 | bilibino\n",
      "Processing Record 2 of Set 14 | korgen\n",
      "Processing Record 3 of Set 14 | lalibela\n",
      "Processing Record 4 of Set 14 | avera\n",
      "Processing Record 5 of Set 14 | abaza\n",
      "Processing Record 6 of Set 14 | canutama\n",
      "Processing Record 7 of Set 14 | jumla\n",
      "Processing Record 8 of Set 14 | puerto colombia\n",
      "Processing Record 9 of Set 14 | freetown\n",
      "Processing Record 10 of Set 14 | cartagena\n",
      "Processing Record 11 of Set 14 | teya\n",
      "Processing Record 12 of Set 14 | sunrise manor\n",
      "Processing Record 13 of Set 14 | kambove\n",
      "Processing Record 14 of Set 14 | alotau\n"
     ]
    },
    {
     "name": "stderr",
     "output_type": "stream",
     "text": [
      "Traceback (most recent call last):\n",
      "  File \"<ipython-input-9-ed51c550d7dc>\", line 31, in <module>\n",
      "    city_lat = city_weather[\"coord\"][\"lat\"]\n",
      "KeyError: 'coord'\n"
     ]
    },
    {
     "name": "stdout",
     "output_type": "stream",
     "text": [
      "Processing Record 15 of Set 14 | tabuk\n",
      "Processing Record 16 of Set 14 | polunochnoye\n",
      "Processing Record 17 of Set 14 | barawe\n"
     ]
    },
    {
     "name": "stderr",
     "output_type": "stream",
     "text": [
      "Traceback (most recent call last):\n",
      "  File \"<ipython-input-9-ed51c550d7dc>\", line 31, in <module>\n",
      "    city_lat = city_weather[\"coord\"][\"lat\"]\n",
      "KeyError: 'coord'\n"
     ]
    },
    {
     "name": "stdout",
     "output_type": "stream",
     "text": [
      "Processing Record 18 of Set 14 | weihe\n",
      "Processing Record 19 of Set 14 | whitecourt\n",
      "Processing Record 20 of Set 14 | sambava\n",
      "Processing Record 21 of Set 14 | kananga\n",
      "Processing Record 22 of Set 14 | beyneu\n",
      "Processing Record 23 of Set 14 | porbandar\n",
      "Processing Record 24 of Set 14 | yanan\n"
     ]
    },
    {
     "name": "stderr",
     "output_type": "stream",
     "text": [
      "Traceback (most recent call last):\n",
      "  File \"<ipython-input-9-ed51c550d7dc>\", line 31, in <module>\n",
      "    city_lat = city_weather[\"coord\"][\"lat\"]\n",
      "KeyError: 'coord'\n"
     ]
    },
    {
     "name": "stdout",
     "output_type": "stream",
     "text": [
      "Processing Record 25 of Set 14 | lerum\n",
      "Processing Record 26 of Set 14 | medeiros neto\n",
      "Processing Record 27 of Set 14 | sergeyevka\n",
      "Processing Record 28 of Set 14 | sao jose da coroa grande\n",
      "Processing Record 29 of Set 14 | marystown\n",
      "Processing Record 30 of Set 14 | eckernforde\n",
      "Processing Record 31 of Set 14 | plettenberg bay\n",
      "Processing Record 32 of Set 14 | ust-tarka\n",
      "Processing Record 33 of Set 14 | aklavik\n",
      "Processing Record 34 of Set 14 | black river\n",
      "Processing Record 35 of Set 14 | starodub\n",
      "Processing Record 36 of Set 14 | tono\n",
      "Processing Record 37 of Set 14 | phonhong\n",
      "Processing Record 38 of Set 14 | arlit\n",
      "Processing Record 39 of Set 14 | forli\n",
      "Processing Record 40 of Set 14 | cascais\n",
      "Processing Record 41 of Set 14 | borova\n",
      "Processing Record 42 of Set 14 | payson\n",
      "Processing Record 43 of Set 14 | kavaratti\n",
      "Processing Record 44 of Set 14 | kiunga\n",
      "Processing Record 45 of Set 14 | brae\n",
      "Processing Record 46 of Set 14 | lovington\n",
      "Processing Record 47 of Set 14 | asyut\n",
      "Processing Record 48 of Set 14 | novo aripuana\n",
      "Processing Record 49 of Set 14 | hasaki\n",
      "Processing Record 50 of Set 14 | belmonte\n",
      "Processing Record 1 of Set 15 | fenoarivo atsinanana\n",
      "Processing Record 2 of Set 15 | manaure\n",
      "Processing Record 3 of Set 15 | kamenskoye\n"
     ]
    },
    {
     "name": "stderr",
     "output_type": "stream",
     "text": [
      "Traceback (most recent call last):\n",
      "  File \"<ipython-input-9-ed51c550d7dc>\", line 31, in <module>\n",
      "    city_lat = city_weather[\"coord\"][\"lat\"]\n",
      "KeyError: 'coord'\n"
     ]
    },
    {
     "name": "stdout",
     "output_type": "stream",
     "text": [
      "Processing Record 4 of Set 15 | canberra\n",
      "Processing Record 5 of Set 15 | nagua\n",
      "Processing Record 6 of Set 15 | las vegas\n",
      "Processing Record 7 of Set 15 | ngukurr\n"
     ]
    },
    {
     "name": "stderr",
     "output_type": "stream",
     "text": [
      "Traceback (most recent call last):\n",
      "  File \"<ipython-input-9-ed51c550d7dc>\", line 31, in <module>\n",
      "    city_lat = city_weather[\"coord\"][\"lat\"]\n",
      "KeyError: 'coord'\n"
     ]
    },
    {
     "name": "stdout",
     "output_type": "stream",
     "text": [
      "Processing Record 8 of Set 15 | timra\n",
      "Processing Record 9 of Set 15 | hede\n",
      "Processing Record 10 of Set 15 | rottenmann\n",
      "Processing Record 11 of Set 15 | mookane\n",
      "Processing Record 12 of Set 15 | swift current\n",
      "Processing Record 13 of Set 15 | sinj\n",
      "Processing Record 14 of Set 15 | piacabucu\n",
      "Processing Record 15 of Set 15 | fort stewart\n",
      "Processing Record 16 of Set 15 | campbell river\n",
      "Processing Record 17 of Set 15 | taburi\n"
     ]
    },
    {
     "name": "stderr",
     "output_type": "stream",
     "text": [
      "Traceback (most recent call last):\n",
      "  File \"<ipython-input-9-ed51c550d7dc>\", line 31, in <module>\n",
      "    city_lat = city_weather[\"coord\"][\"lat\"]\n",
      "KeyError: 'coord'\n"
     ]
    },
    {
     "name": "stdout",
     "output_type": "stream",
     "text": [
      "Processing Record 18 of Set 15 | savannakhet\n",
      "Processing Record 19 of Set 15 | ilulissat\n",
      "Processing Record 20 of Set 15 | rosarito\n",
      "Processing Record 21 of Set 15 | evreux\n",
      "Processing Record 22 of Set 15 | san quintin\n",
      "Processing Record 23 of Set 15 | fare\n",
      "Processing Record 24 of Set 15 | nouakchott\n",
      "Processing Record 25 of Set 15 | paka\n",
      "Processing Record 26 of Set 15 | dunedin\n",
      "Processing Record 27 of Set 15 | iquitos\n",
      "Processing Record 28 of Set 15 | petersburg\n",
      "Processing Record 29 of Set 15 | santa maria do para\n",
      "Processing Record 30 of Set 15 | cajnice\n",
      "Processing Record 31 of Set 15 | palana\n",
      "Processing Record 32 of Set 15 | mkokotoni\n",
      "Processing Record 33 of Set 15 | vila velha\n",
      "Processing Record 34 of Set 15 | tasbuget\n"
     ]
    },
    {
     "name": "stderr",
     "output_type": "stream",
     "text": [
      "Traceback (most recent call last):\n",
      "  File \"<ipython-input-9-ed51c550d7dc>\", line 31, in <module>\n",
      "    city_lat = city_weather[\"coord\"][\"lat\"]\n",
      "KeyError: 'coord'\n"
     ]
    },
    {
     "name": "stdout",
     "output_type": "stream",
     "text": [
      "Processing Record 35 of Set 15 | ilhabela\n",
      "Processing Record 36 of Set 15 | margate\n",
      "Processing Record 37 of Set 15 | omsukchan\n",
      "Processing Record 38 of Set 15 | barra do corda\n",
      "Processing Record 39 of Set 15 | abu dhabi\n",
      "Processing Record 40 of Set 15 | omaruru\n",
      "Processing Record 41 of Set 15 | pandan\n",
      "Processing Record 42 of Set 15 | slave lake\n",
      "Processing Record 43 of Set 15 | bucerias\n",
      "Processing Record 44 of Set 15 | bukama\n",
      "Processing Record 45 of Set 15 | kapit\n",
      "Processing Record 46 of Set 15 | caluquembe\n",
      "Processing Record 47 of Set 15 | vigrestad\n",
      "Processing Record 48 of Set 15 | columbus\n",
      "Processing Record 49 of Set 15 | le port\n",
      "Processing Record 50 of Set 15 | conde\n",
      "Processing Record 1 of Set 16 | covington\n",
      "Processing Record 2 of Set 16 | oussouye\n",
      "Processing Record 3 of Set 16 | asau\n",
      "Processing Record 4 of Set 16 | tsabong\n",
      "Processing Record 5 of Set 16 | roald\n",
      "Processing Record 6 of Set 16 | nadym\n",
      "Processing Record 7 of Set 16 | vardo\n",
      "Processing Record 8 of Set 16 | khani\n",
      "Processing Record 9 of Set 16 | port lincoln\n",
      "Processing Record 10 of Set 16 | preobrazheniye\n",
      "Processing Record 11 of Set 16 | maltahohe\n",
      "Processing Record 12 of Set 16 | mangai\n",
      "Processing Record 13 of Set 16 | delta del tigre\n",
      "Processing Record 14 of Set 16 | aconibe\n",
      "Processing Record 15 of Set 16 | pio ix\n",
      "Processing Record 16 of Set 16 | ust-karsk\n",
      "Processing Record 17 of Set 16 | nicolas bravo\n",
      "Processing Record 18 of Set 16 | doha\n",
      "Processing Record 19 of Set 16 | maryborough\n",
      "Processing Record 20 of Set 16 | kefamenanu\n",
      "Processing Record 21 of Set 16 | hami\n",
      "Processing Record 22 of Set 16 | solnechnyy\n",
      "Processing Record 23 of Set 16 | lubben\n",
      "Processing Record 24 of Set 16 | penzance\n",
      "Processing Record 25 of Set 16 | puerto leguizamo\n",
      "Processing Record 26 of Set 16 | shizunai\n",
      "Processing Record 27 of Set 16 | jizan\n",
      "Processing Record 28 of Set 16 | novikovo\n",
      "Processing Record 29 of Set 16 | praia\n",
      "Processing Record 30 of Set 16 | honiara\n",
      "-----------------------------\n",
      "Data Retrieval Complete      \n",
      "-----------------------------\n"
     ]
    }
   ],
   "source": [
    "# Create an empty list to hold the weather data.\n",
    "city_data = []\n",
    "# Print the beginning of the logging.\n",
    "print(\"Beginning Data Retrieval     \")\n",
    "print(\"-----------------------------\")\n",
    "\n",
    "# Create counters.\n",
    "record_count = 1\n",
    "set_count = 1\n",
    "\n",
    "# Loop through all the cities in the list.\n",
    "for i, city in enumerate(cities):\n",
    "\n",
    "    # Group cities in sets of 50 for logging purposes.\n",
    "    if (i % 50 == 0 and i >= 50):\n",
    "        set_count += 1\n",
    "        record_count = 1\n",
    "    # Create endpoint URL with each city.\n",
    "    city_url = url + \"&q=\" + city.replace(\" \",\"+\")\n",
    "\n",
    "    # Log the URL, record, and set numbers and the city.\n",
    "    print(f\"Processing Record {record_count} of Set {set_count} | {city}\")\n",
    "    # Add 1 to the record count.\n",
    "    record_count += 1\n",
    "    \n",
    "# Run an API request for each of the cities.\n",
    "    try:\n",
    "        # Parse the JSON and retrieve data.\n",
    "        city_weather = requests.get(city_url).json()\n",
    "        # Parse out the needed data.\n",
    "        city_lat = city_weather[\"coord\"][\"lat\"]\n",
    "        city_lng = city_weather[\"coord\"][\"lon\"]\n",
    "        city_max_temp = city_weather[\"main\"][\"temp_max\"]\n",
    "        city_humidity = city_weather[\"main\"][\"humidity\"]\n",
    "        city_clouds = city_weather[\"clouds\"][\"all\"]\n",
    "        city_wind = city_weather[\"wind\"][\"speed\"]\n",
    "        city_country = city_weather[\"sys\"][\"country\"]\n",
    "        city_description = city_weather[\"weather\"][0][\"description\"]\n",
    "        # Append the city information into city_data list.\n",
    "        city_data.append({\"City\": city.title(),\n",
    "                          \"Lat\": city_lat,\n",
    "                          \"Lng\": city_lng,\n",
    "                          \"Max Temp\": city_max_temp,\n",
    "                          \"Humidity\": city_humidity,\n",
    "                          \"Cloudiness\": city_clouds,\n",
    "                          \"Wind Speed\": city_wind,\n",
    "                          \"Country\": city_country,\n",
    "                          \"Current Description\": city_description})\n",
    "        \n",
    "# If an error is experienced, give a traceback error so I know what is going on.\n",
    "    except:\n",
    "        traceback.print_exc()\n",
    "        pass\n",
    "\n",
    "# Indicate that Data Loading is complete.\n",
    "print(\"-----------------------------\")\n",
    "print(\"Data Retrieval Complete      \")\n",
    "print(\"-----------------------------\")"
   ]
  },
  {
   "cell_type": "code",
   "execution_count": 10,
   "metadata": {},
   "outputs": [
    {
     "data": {
      "text/plain": [
       "707"
      ]
     },
     "execution_count": 10,
     "metadata": {},
     "output_type": "execute_result"
    }
   ],
   "source": [
    "len(city_data)"
   ]
  },
  {
   "cell_type": "code",
   "execution_count": 11,
   "metadata": {},
   "outputs": [
    {
     "data": {
      "text/html": [
       "<div>\n",
       "<style scoped>\n",
       "    .dataframe tbody tr th:only-of-type {\n",
       "        vertical-align: middle;\n",
       "    }\n",
       "\n",
       "    .dataframe tbody tr th {\n",
       "        vertical-align: top;\n",
       "    }\n",
       "\n",
       "    .dataframe thead th {\n",
       "        text-align: right;\n",
       "    }\n",
       "</style>\n",
       "<table border=\"1\" class=\"dataframe\">\n",
       "  <thead>\n",
       "    <tr style=\"text-align: right;\">\n",
       "      <th></th>\n",
       "      <th>City</th>\n",
       "      <th>Lat</th>\n",
       "      <th>Lng</th>\n",
       "      <th>Max Temp</th>\n",
       "      <th>Humidity</th>\n",
       "      <th>Cloudiness</th>\n",
       "      <th>Wind Speed</th>\n",
       "      <th>Country</th>\n",
       "      <th>Current Description</th>\n",
       "    </tr>\n",
       "  </thead>\n",
       "  <tbody>\n",
       "    <tr>\n",
       "      <th>0</th>\n",
       "      <td>Wladyslawowo</td>\n",
       "      <td>54.79</td>\n",
       "      <td>18.40</td>\n",
       "      <td>64.99</td>\n",
       "      <td>100</td>\n",
       "      <td>65</td>\n",
       "      <td>3.36</td>\n",
       "      <td>PL</td>\n",
       "      <td>mist</td>\n",
       "    </tr>\n",
       "    <tr>\n",
       "      <th>1</th>\n",
       "      <td>Northam</td>\n",
       "      <td>51.03</td>\n",
       "      <td>-4.22</td>\n",
       "      <td>61.00</td>\n",
       "      <td>90</td>\n",
       "      <td>53</td>\n",
       "      <td>11.01</td>\n",
       "      <td>GB</td>\n",
       "      <td>broken clouds</td>\n",
       "    </tr>\n",
       "    <tr>\n",
       "      <th>2</th>\n",
       "      <td>Chuy</td>\n",
       "      <td>-33.70</td>\n",
       "      <td>-53.46</td>\n",
       "      <td>46.26</td>\n",
       "      <td>71</td>\n",
       "      <td>0</td>\n",
       "      <td>6.69</td>\n",
       "      <td>UY</td>\n",
       "      <td>clear sky</td>\n",
       "    </tr>\n",
       "    <tr>\n",
       "      <th>3</th>\n",
       "      <td>Lodwar</td>\n",
       "      <td>3.12</td>\n",
       "      <td>35.60</td>\n",
       "      <td>79.66</td>\n",
       "      <td>49</td>\n",
       "      <td>82</td>\n",
       "      <td>24.36</td>\n",
       "      <td>KE</td>\n",
       "      <td>broken clouds</td>\n",
       "    </tr>\n",
       "    <tr>\n",
       "      <th>4</th>\n",
       "      <td>Dwarka</td>\n",
       "      <td>22.24</td>\n",
       "      <td>68.97</td>\n",
       "      <td>83.28</td>\n",
       "      <td>86</td>\n",
       "      <td>100</td>\n",
       "      <td>19.19</td>\n",
       "      <td>IN</td>\n",
       "      <td>light rain</td>\n",
       "    </tr>\n",
       "  </tbody>\n",
       "</table>\n",
       "</div>"
      ],
      "text/plain": [
       "           City    Lat    Lng  Max Temp  Humidity  Cloudiness  Wind Speed  \\\n",
       "0  Wladyslawowo  54.79  18.40     64.99       100          65        3.36   \n",
       "1       Northam  51.03  -4.22     61.00        90          53       11.01   \n",
       "2          Chuy -33.70 -53.46     46.26        71           0        6.69   \n",
       "3        Lodwar   3.12  35.60     79.66        49          82       24.36   \n",
       "4        Dwarka  22.24  68.97     83.28        86         100       19.19   \n",
       "\n",
       "  Country Current Description  \n",
       "0      PL                mist  \n",
       "1      GB       broken clouds  \n",
       "2      UY           clear sky  \n",
       "3      KE       broken clouds  \n",
       "4      IN          light rain  "
      ]
     },
     "execution_count": 11,
     "metadata": {},
     "output_type": "execute_result"
    }
   ],
   "source": [
    "# Convert the array of dictionaries to a Pandas dataframe.\n",
    "city_data_df = pd.DataFrame(city_data)\n",
    "city_data_df.head()"
   ]
  },
  {
   "cell_type": "code",
   "execution_count": 12,
   "metadata": {},
   "outputs": [
    {
     "data": {
      "text/html": [
       "<div>\n",
       "<style scoped>\n",
       "    .dataframe tbody tr th:only-of-type {\n",
       "        vertical-align: middle;\n",
       "    }\n",
       "\n",
       "    .dataframe tbody tr th {\n",
       "        vertical-align: top;\n",
       "    }\n",
       "\n",
       "    .dataframe thead th {\n",
       "        text-align: right;\n",
       "    }\n",
       "</style>\n",
       "<table border=\"1\" class=\"dataframe\">\n",
       "  <thead>\n",
       "    <tr style=\"text-align: right;\">\n",
       "      <th></th>\n",
       "      <th>City</th>\n",
       "      <th>Country</th>\n",
       "      <th>Lat</th>\n",
       "      <th>Lng</th>\n",
       "      <th>Max Temp</th>\n",
       "      <th>Humidity</th>\n",
       "      <th>Cloudiness</th>\n",
       "      <th>Wind Speed</th>\n",
       "      <th>Current Description</th>\n",
       "    </tr>\n",
       "  </thead>\n",
       "  <tbody>\n",
       "    <tr>\n",
       "      <th>0</th>\n",
       "      <td>Wladyslawowo</td>\n",
       "      <td>PL</td>\n",
       "      <td>54.79</td>\n",
       "      <td>18.40</td>\n",
       "      <td>64.99</td>\n",
       "      <td>100</td>\n",
       "      <td>65</td>\n",
       "      <td>3.36</td>\n",
       "      <td>mist</td>\n",
       "    </tr>\n",
       "    <tr>\n",
       "      <th>1</th>\n",
       "      <td>Northam</td>\n",
       "      <td>GB</td>\n",
       "      <td>51.03</td>\n",
       "      <td>-4.22</td>\n",
       "      <td>61.00</td>\n",
       "      <td>90</td>\n",
       "      <td>53</td>\n",
       "      <td>11.01</td>\n",
       "      <td>broken clouds</td>\n",
       "    </tr>\n",
       "    <tr>\n",
       "      <th>2</th>\n",
       "      <td>Chuy</td>\n",
       "      <td>UY</td>\n",
       "      <td>-33.70</td>\n",
       "      <td>-53.46</td>\n",
       "      <td>46.26</td>\n",
       "      <td>71</td>\n",
       "      <td>0</td>\n",
       "      <td>6.69</td>\n",
       "      <td>clear sky</td>\n",
       "    </tr>\n",
       "    <tr>\n",
       "      <th>3</th>\n",
       "      <td>Lodwar</td>\n",
       "      <td>KE</td>\n",
       "      <td>3.12</td>\n",
       "      <td>35.60</td>\n",
       "      <td>79.66</td>\n",
       "      <td>49</td>\n",
       "      <td>82</td>\n",
       "      <td>24.36</td>\n",
       "      <td>broken clouds</td>\n",
       "    </tr>\n",
       "    <tr>\n",
       "      <th>4</th>\n",
       "      <td>Dwarka</td>\n",
       "      <td>IN</td>\n",
       "      <td>22.24</td>\n",
       "      <td>68.97</td>\n",
       "      <td>83.28</td>\n",
       "      <td>86</td>\n",
       "      <td>100</td>\n",
       "      <td>19.19</td>\n",
       "      <td>light rain</td>\n",
       "    </tr>\n",
       "  </tbody>\n",
       "</table>\n",
       "</div>"
      ],
      "text/plain": [
       "           City Country    Lat    Lng  Max Temp  Humidity  Cloudiness  \\\n",
       "0  Wladyslawowo      PL  54.79  18.40     64.99       100          65   \n",
       "1       Northam      GB  51.03  -4.22     61.00        90          53   \n",
       "2          Chuy      UY -33.70 -53.46     46.26        71           0   \n",
       "3        Lodwar      KE   3.12  35.60     79.66        49          82   \n",
       "4        Dwarka      IN  22.24  68.97     83.28        86         100   \n",
       "\n",
       "   Wind Speed Current Description  \n",
       "0        3.36                mist  \n",
       "1       11.01       broken clouds  \n",
       "2        6.69           clear sky  \n",
       "3       24.36       broken clouds  \n",
       "4       19.19          light rain  "
      ]
     },
     "execution_count": 12,
     "metadata": {},
     "output_type": "execute_result"
    }
   ],
   "source": [
    "# Reorder the columns.\n",
    "new_column_order = [\"City\", \"Country\", \"Lat\", \"Lng\", \"Max Temp\", \"Humidity\", \"Cloudiness\", \"Wind Speed\", \"Current Description\"]\n",
    "city_data_df = city_data_df[new_column_order]\n",
    "city_data_df.head()"
   ]
  },
  {
   "cell_type": "code",
   "execution_count": 13,
   "metadata": {},
   "outputs": [],
   "source": [
    "# Create the output file (CSV).\n",
    "output_data_file = \"WeatherPy_Database.csv\"\n",
    "# Export the City_Data into a CSV.\n",
    "city_data_df.to_csv(output_data_file, index_label=\"City_ID\")"
   ]
  },
  {
   "cell_type": "code",
   "execution_count": null,
   "metadata": {},
   "outputs": [],
   "source": []
  }
 ],
 "metadata": {
  "kernelspec": {
   "display_name": "PythonData",
   "language": "python",
   "name": "pythondata"
  },
  "language_info": {
   "codemirror_mode": {
    "name": "ipython",
    "version": 3
   },
   "file_extension": ".py",
   "mimetype": "text/x-python",
   "name": "python",
   "nbconvert_exporter": "python",
   "pygments_lexer": "ipython3",
   "version": "3.7.7"
  }
 },
 "nbformat": 4,
 "nbformat_minor": 4
}
